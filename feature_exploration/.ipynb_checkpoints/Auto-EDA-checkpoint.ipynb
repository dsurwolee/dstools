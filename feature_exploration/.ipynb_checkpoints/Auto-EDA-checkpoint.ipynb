{
 "cells": [
  {
   "cell_type": "code",
   "execution_count": 5,
   "metadata": {},
   "outputs": [],
   "source": [
    "import csv\n",
    "\n",
    "import pandas as pd\n",
    "import numpy as np"
   ]
  },
  {
   "cell_type": "code",
   "execution_count": 2,
   "metadata": {},
   "outputs": [
    {
     "data": {
      "text/plain": [
       "' Plotting\\n\\nTrain, Test\\n\\nFraud\\nNone Fraud\\nAll\\n\\nQuantiles\\nHistograms\\n\\n\\n\\n'"
      ]
     },
     "execution_count": 2,
     "metadata": {},
     "output_type": "execute_result"
    }
   ],
   "source": [
    "\"\"\" Plotting\n",
    "\n",
    "Train, Test\n",
    "\n",
    "Fraud\n",
    "None Fraud\n",
    "All\n",
    "\n",
    "Quantiles\n",
    "Histograms\n",
    "\n",
    "Time-Series\n",
    "\"\"\"\n",
    "\n",
    "\"\"\" Bi-variate Analysis\n",
    "\"\"\""
   ]
  }
 ],
 "metadata": {
  "kernelspec": {
   "display_name": "Python 3",
   "language": "python",
   "name": "python3"
  },
  "language_info": {
   "codemirror_mode": {
    "name": "ipython",
    "version": 3
   },
   "file_extension": ".py",
   "mimetype": "text/x-python",
   "name": "python",
   "nbconvert_exporter": "python",
   "pygments_lexer": "ipython3",
   "version": "3.7.2"
  }
 },
 "nbformat": 4,
 "nbformat_minor": 2
}
